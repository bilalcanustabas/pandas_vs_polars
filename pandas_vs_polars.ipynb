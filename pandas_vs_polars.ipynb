{
 "cells": [
  {
   "cell_type": "markdown",
   "metadata": {},
   "source": [
    "# Pandas VS Polars"
   ]
  },
  {
   "cell_type": "markdown",
   "metadata": {},
   "source": [
    "## Kütüphaneler"
   ]
  },
  {
   "cell_type": "markdown",
   "metadata": {},
   "source": [
    "Yüklenmesi Gereken Kütüphaneler:\n",
    "- Pandas kütüphanesi yükle değilse `!pip install pandas` diyerek yükeleyebilirsiniz.\n",
    "- Numpy kütüphanesi yükle değilse `!pip install numpy` diyerek yükeleyebilirsiniz.\n",
    "- Polars kütüphanesi yüklü değilse `!pip install polars` diyerek yükleyebilirsiniz.\n",
    "\n",
    "Not: Eğer M1 veya üstü bir çipe sahip olan Mac cihazlarında polars kütüphanesini yüklemek isterseniz `pip install polars-lts-cpu` diyerek yükleyebilirsiniz."
   ]
  },
  {
   "cell_type": "code",
   "execution_count": 1,
   "metadata": {},
   "outputs": [],
   "source": [
    "import pandas as pd\n",
    "import numpy as np\n",
    "import polars as pl"
   ]
  },
  {
   "cell_type": "markdown",
   "metadata": {},
   "source": [
    "## Örnek Veri Seti Oluşturma"
   ]
  },
  {
   "cell_type": "code",
   "execution_count": 2,
   "metadata": {},
   "outputs": [],
   "source": [
    "# Yüksek boyutta bir veri oluşturalım\n",
    "num_rows = 1000000\n",
    "num_cols = 50\n",
    "\n",
    "# Rastgele sayıların tekrar üretilebilmesi için seed değeri\n",
    "np.random.seed(42)\n",
    "\n",
    "# Rastgele sayılar içeren bir veriye dönüştürelim\n",
    "data = np.random.randn(num_rows, num_cols)\n",
    "\n",
    "# Kolon isimlerini oluşturalım\n",
    "columns = [f\"col_{i}\" for i in range(num_cols)]\n",
    "\n",
    "# Veri setlerini oluşturalım\n",
    "df_pandas = pd.DataFrame(data, columns=columns)\n",
    "df_polars = pl.from_numpy(data, schema=columns)"
   ]
  },
  {
   "cell_type": "markdown",
   "metadata": {},
   "source": [
    "## Karşılaştırmalar"
   ]
  },
  {
   "cell_type": "markdown",
   "metadata": {},
   "source": [
    "### 1) Veri Yazma ve Okuma Karşılaştırması"
   ]
  },
  {
   "cell_type": "markdown",
   "metadata": {},
   "source": [
    "Not: parquet yazabilmeniz için pyarrow ve fastparquet kütüphanelerini yüklemeniz gerekmektedir. Bu şekilde yükleyebilirsiniz `!pip install pyarrow` `!pip install fastparquet`"
   ]
  },
  {
   "cell_type": "code",
   "execution_count": 3,
   "metadata": {},
   "outputs": [],
   "source": [
    "# Timeit modulünün kullanılabilmesi için işlemleri fonksiyonlaştırıyoruz\n",
    "\n",
    "# Pandas okuma fonksiyonu\n",
    "def pandas_read():\n",
    "\n",
    "    df_pandas = pd.read_parquet(\"data.parquet\")\n",
    "\n",
    "    return df_pandas\n",
    "\n",
    "# Polars okuma fonksiyonu\n",
    "def polars_read():\n",
    "\n",
    "    df_polars = pl.read_parquet(\"data.parquet\")\n",
    "\n",
    "    return df_polars\n",
    "\n",
    "# Pandas yazma fonksiyonu\n",
    "def pandas_write(df_pandas):\n",
    "\n",
    "    df_pandas.to_parquet(\"data.parquet\", index=False)\n",
    "\n",
    "# Polars yazma fonksiyonu\n",
    "def polars_write(df_polars):\n",
    "\n",
    "    df_polars.write_parquet(\"data.parquet\")"
   ]
  },
  {
   "cell_type": "code",
   "execution_count": 4,
   "metadata": {},
   "outputs": [
    {
     "name": "stdout",
     "output_type": "stream",
     "text": [
      "1.18 s ± 159 ms per loop (mean ± std. dev. of 7 runs, 1 loop each)\n"
     ]
    }
   ],
   "source": [
    "%%timeit\n",
    "pandas_write(df_pandas)"
   ]
  },
  {
   "cell_type": "code",
   "execution_count": 5,
   "metadata": {},
   "outputs": [
    {
     "name": "stdout",
     "output_type": "stream",
     "text": [
      "773 ms ± 59 ms per loop (mean ± std. dev. of 7 runs, 1 loop each)\n"
     ]
    }
   ],
   "source": [
    "%%timeit\n",
    "polars_write(df_polars)"
   ]
  },
  {
   "cell_type": "code",
   "execution_count": 6,
   "metadata": {},
   "outputs": [
    {
     "name": "stdout",
     "output_type": "stream",
     "text": [
      "286 ms ± 89.1 ms per loop (mean ± std. dev. of 7 runs, 1 loop each)\n"
     ]
    }
   ],
   "source": [
    "%%timeit\n",
    "df_pandas = pandas_read()"
   ]
  },
  {
   "cell_type": "code",
   "execution_count": 7,
   "metadata": {},
   "outputs": [
    {
     "name": "stdout",
     "output_type": "stream",
     "text": [
      "142 ms ± 4.93 ms per loop (mean ± std. dev. of 7 runs, 1 loop each)\n"
     ]
    }
   ],
   "source": [
    "%%timeit\n",
    "df_polars = polars_read()"
   ]
  },
  {
   "cell_type": "markdown",
   "metadata": {},
   "source": [
    "Veriye head atarak baktığımızda iki veri setinin de aynı olduğunu görebiliyoruz, yazma ve okuma açısından bir sorun yaşamamışlar"
   ]
  },
  {
   "cell_type": "code",
   "execution_count": 8,
   "metadata": {},
   "outputs": [
    {
     "data": {
      "text/html": [
       "<div>\n",
       "<style scoped>\n",
       "    .dataframe tbody tr th:only-of-type {\n",
       "        vertical-align: middle;\n",
       "    }\n",
       "\n",
       "    .dataframe tbody tr th {\n",
       "        vertical-align: top;\n",
       "    }\n",
       "\n",
       "    .dataframe thead th {\n",
       "        text-align: right;\n",
       "    }\n",
       "</style>\n",
       "<table border=\"1\" class=\"dataframe\">\n",
       "  <thead>\n",
       "    <tr style=\"text-align: right;\">\n",
       "      <th></th>\n",
       "      <th>col_0</th>\n",
       "      <th>col_1</th>\n",
       "      <th>col_2</th>\n",
       "      <th>col_3</th>\n",
       "      <th>col_4</th>\n",
       "      <th>col_5</th>\n",
       "      <th>col_6</th>\n",
       "      <th>col_7</th>\n",
       "      <th>col_8</th>\n",
       "      <th>col_9</th>\n",
       "      <th>...</th>\n",
       "      <th>col_40</th>\n",
       "      <th>col_41</th>\n",
       "      <th>col_42</th>\n",
       "      <th>col_43</th>\n",
       "      <th>col_44</th>\n",
       "      <th>col_45</th>\n",
       "      <th>col_46</th>\n",
       "      <th>col_47</th>\n",
       "      <th>col_48</th>\n",
       "      <th>col_49</th>\n",
       "    </tr>\n",
       "  </thead>\n",
       "  <tbody>\n",
       "    <tr>\n",
       "      <th>0</th>\n",
       "      <td>0.496714</td>\n",
       "      <td>-0.138264</td>\n",
       "      <td>0.647689</td>\n",
       "      <td>1.523030</td>\n",
       "      <td>-0.234153</td>\n",
       "      <td>-0.234137</td>\n",
       "      <td>1.579213</td>\n",
       "      <td>0.767435</td>\n",
       "      <td>-0.469474</td>\n",
       "      <td>0.542560</td>\n",
       "      <td>...</td>\n",
       "      <td>0.738467</td>\n",
       "      <td>0.171368</td>\n",
       "      <td>-0.115648</td>\n",
       "      <td>-0.301104</td>\n",
       "      <td>-1.478522</td>\n",
       "      <td>-0.719844</td>\n",
       "      <td>-0.460639</td>\n",
       "      <td>1.057122</td>\n",
       "      <td>0.343618</td>\n",
       "      <td>-1.763040</td>\n",
       "    </tr>\n",
       "    <tr>\n",
       "      <th>1</th>\n",
       "      <td>0.324084</td>\n",
       "      <td>-0.385082</td>\n",
       "      <td>-0.676922</td>\n",
       "      <td>0.611676</td>\n",
       "      <td>1.031000</td>\n",
       "      <td>0.931280</td>\n",
       "      <td>-0.839218</td>\n",
       "      <td>-0.309212</td>\n",
       "      <td>0.331263</td>\n",
       "      <td>0.975545</td>\n",
       "      <td>...</td>\n",
       "      <td>0.097078</td>\n",
       "      <td>0.968645</td>\n",
       "      <td>-0.702053</td>\n",
       "      <td>-0.327662</td>\n",
       "      <td>-0.392108</td>\n",
       "      <td>-1.463515</td>\n",
       "      <td>0.296120</td>\n",
       "      <td>0.261055</td>\n",
       "      <td>0.005113</td>\n",
       "      <td>-0.234587</td>\n",
       "    </tr>\n",
       "    <tr>\n",
       "      <th>2</th>\n",
       "      <td>-1.415371</td>\n",
       "      <td>-0.420645</td>\n",
       "      <td>-0.342715</td>\n",
       "      <td>-0.802277</td>\n",
       "      <td>-0.161286</td>\n",
       "      <td>0.404051</td>\n",
       "      <td>1.886186</td>\n",
       "      <td>0.174578</td>\n",
       "      <td>0.257550</td>\n",
       "      <td>-0.074446</td>\n",
       "      <td>...</td>\n",
       "      <td>0.227460</td>\n",
       "      <td>1.307143</td>\n",
       "      <td>-1.607483</td>\n",
       "      <td>0.184634</td>\n",
       "      <td>0.259883</td>\n",
       "      <td>0.781823</td>\n",
       "      <td>-1.236951</td>\n",
       "      <td>-1.320457</td>\n",
       "      <td>0.521942</td>\n",
       "      <td>0.296985</td>\n",
       "    </tr>\n",
       "    <tr>\n",
       "      <th>3</th>\n",
       "      <td>0.250493</td>\n",
       "      <td>0.346448</td>\n",
       "      <td>-0.680025</td>\n",
       "      <td>0.232254</td>\n",
       "      <td>0.293072</td>\n",
       "      <td>-0.714351</td>\n",
       "      <td>1.865775</td>\n",
       "      <td>0.473833</td>\n",
       "      <td>-1.191303</td>\n",
       "      <td>0.656554</td>\n",
       "      <td>...</td>\n",
       "      <td>-0.446515</td>\n",
       "      <td>0.856399</td>\n",
       "      <td>0.214094</td>\n",
       "      <td>-1.245739</td>\n",
       "      <td>0.173181</td>\n",
       "      <td>0.385317</td>\n",
       "      <td>-0.883857</td>\n",
       "      <td>0.153725</td>\n",
       "      <td>0.058209</td>\n",
       "      <td>-1.142970</td>\n",
       "    </tr>\n",
       "    <tr>\n",
       "      <th>4</th>\n",
       "      <td>0.357787</td>\n",
       "      <td>0.560785</td>\n",
       "      <td>1.083051</td>\n",
       "      <td>1.053802</td>\n",
       "      <td>-1.377669</td>\n",
       "      <td>-0.937825</td>\n",
       "      <td>0.515035</td>\n",
       "      <td>0.513786</td>\n",
       "      <td>0.515048</td>\n",
       "      <td>3.852731</td>\n",
       "      <td>...</td>\n",
       "      <td>-0.792521</td>\n",
       "      <td>-0.114736</td>\n",
       "      <td>0.504987</td>\n",
       "      <td>0.865755</td>\n",
       "      <td>-1.200296</td>\n",
       "      <td>-0.334501</td>\n",
       "      <td>-0.474945</td>\n",
       "      <td>-0.653329</td>\n",
       "      <td>1.765454</td>\n",
       "      <td>0.404982</td>\n",
       "    </tr>\n",
       "  </tbody>\n",
       "</table>\n",
       "<p>5 rows × 50 columns</p>\n",
       "</div>"
      ],
      "text/plain": [
       "      col_0     col_1     col_2     col_3     col_4     col_5     col_6  \\\n",
       "0  0.496714 -0.138264  0.647689  1.523030 -0.234153 -0.234137  1.579213   \n",
       "1  0.324084 -0.385082 -0.676922  0.611676  1.031000  0.931280 -0.839218   \n",
       "2 -1.415371 -0.420645 -0.342715 -0.802277 -0.161286  0.404051  1.886186   \n",
       "3  0.250493  0.346448 -0.680025  0.232254  0.293072 -0.714351  1.865775   \n",
       "4  0.357787  0.560785  1.083051  1.053802 -1.377669 -0.937825  0.515035   \n",
       "\n",
       "      col_7     col_8     col_9  ...    col_40    col_41    col_42    col_43  \\\n",
       "0  0.767435 -0.469474  0.542560  ...  0.738467  0.171368 -0.115648 -0.301104   \n",
       "1 -0.309212  0.331263  0.975545  ...  0.097078  0.968645 -0.702053 -0.327662   \n",
       "2  0.174578  0.257550 -0.074446  ...  0.227460  1.307143 -1.607483  0.184634   \n",
       "3  0.473833 -1.191303  0.656554  ... -0.446515  0.856399  0.214094 -1.245739   \n",
       "4  0.513786  0.515048  3.852731  ... -0.792521 -0.114736  0.504987  0.865755   \n",
       "\n",
       "     col_44    col_45    col_46    col_47    col_48    col_49  \n",
       "0 -1.478522 -0.719844 -0.460639  1.057122  0.343618 -1.763040  \n",
       "1 -0.392108 -1.463515  0.296120  0.261055  0.005113 -0.234587  \n",
       "2  0.259883  0.781823 -1.236951 -1.320457  0.521942  0.296985  \n",
       "3  0.173181  0.385317 -0.883857  0.153725  0.058209 -1.142970  \n",
       "4 -1.200296 -0.334501 -0.474945 -0.653329  1.765454  0.404982  \n",
       "\n",
       "[5 rows x 50 columns]"
      ]
     },
     "execution_count": 8,
     "metadata": {},
     "output_type": "execute_result"
    }
   ],
   "source": [
    "df_pandas.head()"
   ]
  },
  {
   "cell_type": "code",
   "execution_count": 9,
   "metadata": {},
   "outputs": [
    {
     "data": {
      "text/html": [
       "<div><style>\n",
       ".dataframe > thead > tr,\n",
       ".dataframe > tbody > tr {\n",
       "  text-align: right;\n",
       "  white-space: pre-wrap;\n",
       "}\n",
       "</style>\n",
       "<small>shape: (5, 50)</small><table border=\"1\" class=\"dataframe\"><thead><tr><th>col_0</th><th>col_1</th><th>col_2</th><th>col_3</th><th>col_4</th><th>col_5</th><th>col_6</th><th>col_7</th><th>col_8</th><th>col_9</th><th>col_10</th><th>col_11</th><th>col_12</th><th>col_13</th><th>col_14</th><th>col_15</th><th>col_16</th><th>col_17</th><th>col_18</th><th>col_19</th><th>col_20</th><th>col_21</th><th>col_22</th><th>col_23</th><th>col_24</th><th>col_25</th><th>col_26</th><th>col_27</th><th>col_28</th><th>col_29</th><th>col_30</th><th>col_31</th><th>col_32</th><th>col_33</th><th>col_34</th><th>col_35</th><th>col_36</th><th>col_37</th><th>col_38</th><th>col_39</th><th>col_40</th><th>col_41</th><th>col_42</th><th>col_43</th><th>col_44</th><th>col_45</th><th>col_46</th><th>col_47</th><th>col_48</th><th>col_49</th></tr><tr><td>f64</td><td>f64</td><td>f64</td><td>f64</td><td>f64</td><td>f64</td><td>f64</td><td>f64</td><td>f64</td><td>f64</td><td>f64</td><td>f64</td><td>f64</td><td>f64</td><td>f64</td><td>f64</td><td>f64</td><td>f64</td><td>f64</td><td>f64</td><td>f64</td><td>f64</td><td>f64</td><td>f64</td><td>f64</td><td>f64</td><td>f64</td><td>f64</td><td>f64</td><td>f64</td><td>f64</td><td>f64</td><td>f64</td><td>f64</td><td>f64</td><td>f64</td><td>f64</td><td>f64</td><td>f64</td><td>f64</td><td>f64</td><td>f64</td><td>f64</td><td>f64</td><td>f64</td><td>f64</td><td>f64</td><td>f64</td><td>f64</td><td>f64</td></tr></thead><tbody><tr><td>0.496714</td><td>-0.138264</td><td>0.647689</td><td>1.52303</td><td>-0.234153</td><td>-0.234137</td><td>1.579213</td><td>0.767435</td><td>-0.469474</td><td>0.54256</td><td>-0.463418</td><td>-0.46573</td><td>0.241962</td><td>-1.91328</td><td>-1.724918</td><td>-0.562288</td><td>-1.012831</td><td>0.314247</td><td>-0.908024</td><td>-1.412304</td><td>1.465649</td><td>-0.225776</td><td>0.067528</td><td>-1.424748</td><td>-0.544383</td><td>0.110923</td><td>-1.150994</td><td>0.375698</td><td>-0.600639</td><td>-0.291694</td><td>-0.601707</td><td>1.852278</td><td>-0.013497</td><td>-1.057711</td><td>0.822545</td><td>-1.220844</td><td>0.208864</td><td>-1.95967</td><td>-1.328186</td><td>0.196861</td><td>0.738467</td><td>0.171368</td><td>-0.115648</td><td>-0.301104</td><td>-1.478522</td><td>-0.719844</td><td>-0.460639</td><td>1.057122</td><td>0.343618</td><td>-1.76304</td></tr><tr><td>0.324084</td><td>-0.385082</td><td>-0.676922</td><td>0.611676</td><td>1.031</td><td>0.93128</td><td>-0.839218</td><td>-0.309212</td><td>0.331263</td><td>0.975545</td><td>-0.479174</td><td>-0.185659</td><td>-1.106335</td><td>-1.196207</td><td>0.812526</td><td>1.35624</td><td>-0.07201</td><td>1.003533</td><td>0.361636</td><td>-0.64512</td><td>0.361396</td><td>1.538037</td><td>-0.035826</td><td>1.564644</td><td>-2.619745</td><td>0.821903</td><td>0.087047</td><td>-0.299007</td><td>0.091761</td><td>-1.987569</td><td>-0.219672</td><td>0.357113</td><td>1.477894</td><td>-0.51827</td><td>-0.808494</td><td>-0.501757</td><td>0.915402</td><td>0.328751</td><td>-0.52976</td><td>0.513267</td><td>0.097078</td><td>0.968645</td><td>-0.702053</td><td>-0.327662</td><td>-0.392108</td><td>-1.463515</td><td>0.29612</td><td>0.261055</td><td>0.005113</td><td>-0.234587</td></tr><tr><td>-1.415371</td><td>-0.420645</td><td>-0.342715</td><td>-0.802277</td><td>-0.161286</td><td>0.404051</td><td>1.886186</td><td>0.174578</td><td>0.25755</td><td>-0.074446</td><td>-1.918771</td><td>-0.026514</td><td>0.06023</td><td>2.463242</td><td>-0.192361</td><td>0.301547</td><td>-0.034712</td><td>-1.168678</td><td>1.142823</td><td>0.751933</td><td>0.791032</td><td>-0.909387</td><td>1.402794</td><td>-1.401851</td><td>0.586857</td><td>2.190456</td><td>-0.990536</td><td>-0.566298</td><td>0.099651</td><td>-0.503476</td><td>-1.550663</td><td>0.068563</td><td>-1.062304</td><td>0.473592</td><td>-0.919424</td><td>1.549934</td><td>-0.783253</td><td>-0.322062</td><td>0.813517</td><td>-1.230864</td><td>0.22746</td><td>1.307143</td><td>-1.607483</td><td>0.184634</td><td>0.259883</td><td>0.781823</td><td>-1.236951</td><td>-1.320457</td><td>0.521942</td><td>0.296985</td></tr><tr><td>0.250493</td><td>0.346448</td><td>-0.680025</td><td>0.232254</td><td>0.293072</td><td>-0.714351</td><td>1.865775</td><td>0.473833</td><td>-1.191303</td><td>0.656554</td><td>-0.974682</td><td>0.787085</td><td>1.158596</td><td>-0.820682</td><td>0.963376</td><td>0.412781</td><td>0.82206</td><td>1.896793</td><td>-0.245388</td><td>-0.753736</td><td>-0.889514</td><td>-0.81581</td><td>-0.077102</td><td>0.341152</td><td>0.276691</td><td>0.827183</td><td>0.013002</td><td>1.453534</td><td>-0.264657</td><td>2.720169</td><td>0.625667</td><td>-0.857158</td><td>-1.070892</td><td>0.482472</td><td>-0.223463</td><td>0.714</td><td>0.473238</td><td>-0.072829</td><td>-0.846794</td><td>-1.514847</td><td>-0.446515</td><td>0.856399</td><td>0.214094</td><td>-1.245739</td><td>0.173181</td><td>0.385317</td><td>-0.883857</td><td>0.153725</td><td>0.058209</td><td>-1.14297</td></tr><tr><td>0.357787</td><td>0.560785</td><td>1.083051</td><td>1.053802</td><td>-1.377669</td><td>-0.937825</td><td>0.515035</td><td>0.513786</td><td>0.515048</td><td>3.852731</td><td>0.570891</td><td>1.135566</td><td>0.954002</td><td>0.651391</td><td>-0.315269</td><td>0.758969</td><td>-0.772825</td><td>-0.236819</td><td>-0.485364</td><td>0.081874</td><td>2.314659</td><td>-1.867265</td><td>0.68626</td><td>-1.612716</td><td>-0.471932</td><td>1.088951</td><td>0.06428</td><td>-1.077745</td><td>-0.715304</td><td>0.679598</td><td>-0.730367</td><td>0.216459</td><td>0.045572</td><td>-0.6516</td><td>2.143944</td><td>0.633919</td><td>-2.025143</td><td>0.186454</td><td>-0.661786</td><td>0.852433</td><td>-0.792521</td><td>-0.114736</td><td>0.504987</td><td>0.865755</td><td>-1.200296</td><td>-0.334501</td><td>-0.474945</td><td>-0.653329</td><td>1.765454</td><td>0.404982</td></tr></tbody></table></div>"
      ],
      "text/plain": [
       "shape: (5, 50)\n",
       "┌───────────┬───────────┬───────────┬───────────┬───┬───────────┬───────────┬──────────┬───────────┐\n",
       "│ col_0     ┆ col_1     ┆ col_2     ┆ col_3     ┆ … ┆ col_46    ┆ col_47    ┆ col_48   ┆ col_49    │\n",
       "│ ---       ┆ ---       ┆ ---       ┆ ---       ┆   ┆ ---       ┆ ---       ┆ ---      ┆ ---       │\n",
       "│ f64       ┆ f64       ┆ f64       ┆ f64       ┆   ┆ f64       ┆ f64       ┆ f64      ┆ f64       │\n",
       "╞═══════════╪═══════════╪═══════════╪═══════════╪═══╪═══════════╪═══════════╪══════════╪═══════════╡\n",
       "│ 0.496714  ┆ -0.138264 ┆ 0.647689  ┆ 1.52303   ┆ … ┆ -0.460639 ┆ 1.057122  ┆ 0.343618 ┆ -1.76304  │\n",
       "│ 0.324084  ┆ -0.385082 ┆ -0.676922 ┆ 0.611676  ┆ … ┆ 0.29612   ┆ 0.261055  ┆ 0.005113 ┆ -0.234587 │\n",
       "│ -1.415371 ┆ -0.420645 ┆ -0.342715 ┆ -0.802277 ┆ … ┆ -1.236951 ┆ -1.320457 ┆ 0.521942 ┆ 0.296985  │\n",
       "│ 0.250493  ┆ 0.346448  ┆ -0.680025 ┆ 0.232254  ┆ … ┆ -0.883857 ┆ 0.153725  ┆ 0.058209 ┆ -1.14297  │\n",
       "│ 0.357787  ┆ 0.560785  ┆ 1.083051  ┆ 1.053802  ┆ … ┆ -0.474945 ┆ -0.653329 ┆ 1.765454 ┆ 0.404982  │\n",
       "└───────────┴───────────┴───────────┴───────────┴───┴───────────┴───────────┴──────────┴───────────┘"
      ]
     },
     "execution_count": 9,
     "metadata": {},
     "output_type": "execute_result"
    }
   ],
   "source": [
    "df_polars.head()"
   ]
  },
  {
   "cell_type": "markdown",
   "metadata": {},
   "source": [
    "### 2) Kolon Operasyonları Karşılaştırması"
   ]
  },
  {
   "cell_type": "markdown",
   "metadata": {},
   "source": [
    "#### Kolon Bazında Toplama, Çıkarma, Çarpma, Bölme"
   ]
  },
  {
   "cell_type": "code",
   "execution_count": 10,
   "metadata": {},
   "outputs": [],
   "source": [
    "# Timeit modulünün kullanılabilmesi için işlemleri fonksiyonlaştırıyoruz\n",
    "\n",
    "# Pandas kütüphanesi ile toplama, çıkarma, çarpma ve bölme işlemleri\n",
    "def column_operation_pandas(df_pandas):\n",
    "    df_pandas[\"col_toplama\"] = df_pandas[\"col_0\"] + df_pandas[\"col_1\"]\n",
    "    df_pandas[\"col_cikarma\"] = df_pandas[\"col_0\"] - 2\n",
    "    df_pandas[\"col_carpma\"] = df_pandas[\"col_0\"] * df_pandas[\"col_1\"]\n",
    "    df_pandas[\"col_bolme\"] = df_pandas[\"col_0\"] / 3\n",
    "\n",
    "# Polars kütüphanesi ile toplama, çıkarma, çarpma ve bölme işlemleri\n",
    "def column_operation_polars(df_polars):\n",
    "    df_polars = df_polars.with_columns((pl.col(\"col_0\") + pl.col(\"col_1\")).alias(\"col_toplama\"))\n",
    "    df_polars = df_polars.with_columns((pl.col(\"col_0\") - 2).alias(\"col_cikarma\"))\n",
    "    df_polars = df_polars.with_columns((pl.col(\"col_0\") * pl.col(\"col_1\")).alias(\"col_carpma\"))\n",
    "    df_polars = df_polars.with_columns((pl.col(\"col_0\") / 3).alias(\"col_bolme\"))"
   ]
  },
  {
   "cell_type": "code",
   "execution_count": 11,
   "metadata": {},
   "outputs": [
    {
     "name": "stdout",
     "output_type": "stream",
     "text": [
      "26.5 ms ± 1.7 ms per loop (mean ± std. dev. of 7 runs, 10 loops each)\n"
     ]
    }
   ],
   "source": [
    "%%timeit\n",
    "column_operation_pandas(df_pandas)"
   ]
  },
  {
   "cell_type": "code",
   "execution_count": 12,
   "metadata": {},
   "outputs": [
    {
     "name": "stdout",
     "output_type": "stream",
     "text": [
      "1.94 ms ± 64.5 μs per loop (mean ± std. dev. of 7 runs, 100 loops each)\n"
     ]
    }
   ],
   "source": [
    "%%timeit\n",
    "column_operation_polars(df_polars)"
   ]
  },
  {
   "cell_type": "markdown",
   "metadata": {},
   "source": [
    "#### Kolon Ekleme ve Düşürme"
   ]
  },
  {
   "cell_type": "code",
   "execution_count": 13,
   "metadata": {},
   "outputs": [],
   "source": [
    "# Rastgele sayıların tekrar üretilebilmesi için seed değeri\n",
    "np.random.seed(42)\n",
    "\n",
    "# Kolon eklemek için ve sonraki aşamada string'den ve float'dan integer dönüşümü için rastgele veri listelerinin oluşturulması\n",
    "values = np.random.randint(low=1,high=10,size=num_rows)\n",
    "casting_str_to_int = values.astype(str)\n",
    "casting_float_to_int = values.astype(float)"
   ]
  },
  {
   "cell_type": "code",
   "execution_count": 14,
   "metadata": {},
   "outputs": [],
   "source": [
    "# Timeit modulünün kullanılabilmesi için işlemleri fonksiyonlaştırıyoruz\n",
    "\n",
    "# Pandas kütüphanesinde hazır veri veya sabit değer ile kolon oluşturma\n",
    "def column_add_pandas(df_pandas, data1, data2, return_status=False):\n",
    "\n",
    "    df_pandas[\"str_to_int\"] = data1\n",
    "    df_pandas[\"float_to_int\"] = data2\n",
    "    df_pandas[\"col_value_0\"] = 0\n",
    "\n",
    "    if return_status:\n",
    "\n",
    "        return df_pandas\n",
    "\n",
    "# Polars kütüphanesinde hazır veri veya sabit değer ile kolon oluşturma\n",
    "def column_add_polars(df_polars, data1, data2, return_status=False):\n",
    "\n",
    "    df_polars = df_polars.with_columns(pl.lit(data1).alias(\"str_to_int\"))\n",
    "    df_polars = df_polars.with_columns(pl.lit(data2).alias(\"float_to_int\"))\n",
    "    df_polars = df_polars.with_columns(pl.lit(0).alias(\"col_value_0\"))\n",
    "\n",
    "    if return_status:\n",
    "\n",
    "        return df_polars\n",
    "\n",
    "# Pandas kütüphanesinde kolon düşürme\n",
    "def column_drop_pandas(df_pandas):\n",
    "\n",
    "    df_pandas.drop([\"col_49\",\"col_48\",\"col_47\"], axis=1)\n",
    "\n",
    "# Polars kütüphanesinde kolon düşürme\n",
    "def column_drop_polars(df_polars):\n",
    "\n",
    "    df_polars.drop([\"col_49\",\"col_48\",\"col_47\"])"
   ]
  },
  {
   "cell_type": "code",
   "execution_count": 15,
   "metadata": {},
   "outputs": [
    {
     "name": "stdout",
     "output_type": "stream",
     "text": [
      "56.2 ms ± 1.28 ms per loop (mean ± std. dev. of 7 runs, 10 loops each)\n"
     ]
    }
   ],
   "source": [
    "%%timeit\n",
    "column_add_pandas(df_pandas, casting_str_to_int, casting_float_to_int)"
   ]
  },
  {
   "cell_type": "code",
   "execution_count": 16,
   "metadata": {},
   "outputs": [
    {
     "name": "stdout",
     "output_type": "stream",
     "text": [
      "303 ms ± 18.7 ms per loop (mean ± std. dev. of 7 runs, 1 loop each)\n"
     ]
    }
   ],
   "source": [
    "%%timeit\n",
    "column_add_polars(df_polars, casting_str_to_int, casting_float_to_int)"
   ]
  },
  {
   "cell_type": "code",
   "execution_count": 17,
   "metadata": {},
   "outputs": [
    {
     "name": "stdout",
     "output_type": "stream",
     "text": [
      "114 ms ± 4.92 ms per loop (mean ± std. dev. of 7 runs, 10 loops each)\n"
     ]
    }
   ],
   "source": [
    "%%timeit\n",
    "column_drop_pandas(df_pandas)"
   ]
  },
  {
   "cell_type": "code",
   "execution_count": 18,
   "metadata": {},
   "outputs": [
    {
     "name": "stdout",
     "output_type": "stream",
     "text": [
      "16.7 μs ± 314 ns per loop (mean ± std. dev. of 7 runs, 100,000 loops each)\n"
     ]
    }
   ],
   "source": [
    "%%timeit\n",
    "column_drop_polars(df_polars)"
   ]
  },
  {
   "cell_type": "markdown",
   "metadata": {},
   "source": [
    "#### Kolon Bazında Casting"
   ]
  },
  {
   "cell_type": "code",
   "execution_count": 19,
   "metadata": {},
   "outputs": [],
   "source": [
    "# Casting işlemleri için iki veri setine de integer olması gereken kolonlar ekliyoruz.\n",
    "df_pandas = column_add_pandas(df_pandas, casting_str_to_int, casting_float_to_int, return_status=True)\n",
    "df_polars = column_add_polars(df_polars, casting_str_to_int, casting_float_to_int, return_status=True)"
   ]
  },
  {
   "cell_type": "code",
   "execution_count": 20,
   "metadata": {},
   "outputs": [],
   "source": [
    "# Timeit modulünün kullanılabilmesi için işlemleri fonksiyonlaştırıyoruz\n",
    "\n",
    "# Pandas kütüphanesinde casting işlemlerinin yapılması\n",
    "def casting_pandas(df_pandas):\n",
    "\n",
    "    df_pandas[\"str_to_int\"] = df_pandas[\"str_to_int\"].astype(int)\n",
    "    df_pandas[\"float_to_int\"] = df_pandas[\"float_to_int\"].astype(int)\n",
    "\n",
    "# Polars kütüphanesinde casting işlemlerinin yapılması\n",
    "def casting_polars(df_polars):\n",
    "\n",
    "    df_polars = df_polars.with_columns(pl.col(\"str_to_int\").cast(pl.Int64))\n",
    "    df_polars = df_polars.with_columns(pl.col(\"float_to_int\").cast(pl.Int64))"
   ]
  },
  {
   "cell_type": "code",
   "execution_count": 21,
   "metadata": {},
   "outputs": [
    {
     "name": "stdout",
     "output_type": "stream",
     "text": [
      "1.22 ms ± 24.8 μs per loop (mean ± std. dev. of 7 runs, 1,000 loops each)\n"
     ]
    }
   ],
   "source": [
    "%%timeit\n",
    "casting_pandas(df_pandas)"
   ]
  },
  {
   "cell_type": "code",
   "execution_count": 22,
   "metadata": {},
   "outputs": [
    {
     "name": "stdout",
     "output_type": "stream",
     "text": [
      "7.58 ms ± 95 μs per loop (mean ± std. dev. of 7 runs, 100 loops each)\n"
     ]
    }
   ],
   "source": [
    "%%timeit\n",
    "casting_polars(df_polars)"
   ]
  },
  {
   "cell_type": "markdown",
   "metadata": {},
   "source": [
    "### 3) Gruplama İşemlerinin Karşılaştırılması"
   ]
  },
  {
   "cell_type": "code",
   "execution_count": 23,
   "metadata": {},
   "outputs": [],
   "source": [
    "# Rastgele sayıların tekrar üretilebilmesi için seed değeri\n",
    "np.random.seed(42)\n",
    "\n",
    "# Group kolonu için rastgele grup sayılarının oluşturulması\n",
    "groups = np.random.randint(low=1,high=10,size=num_rows)\n",
    "\n",
    "# Group By işlemlerini gerçekleştirebilmek için iki veri setine de grup kolonu ekleyeceğiz.\n",
    "df_pandas[\"groups\"] = groups\n",
    "df_polars = df_polars.with_columns(pl.lit(groups).alias(\"groups\"))"
   ]
  },
  {
   "cell_type": "code",
   "execution_count": 24,
   "metadata": {},
   "outputs": [],
   "source": [
    "# Timeit modulünün kullanılabilmesi için işlemleri fonksiyonlaştırıyoruz\n",
    "\n",
    "# Pandas kütüphanesinde gruplama işlemlerinin yapılması\n",
    "def groupby_pandas(df_pandas):\n",
    "\n",
    "    df_pandas.groupby(\"groups\").agg(mean_col_0=('col_0','mean'),\n",
    "                                    std_col_1=('col_1','std'),\n",
    "                                    sum_col_2=('col_2','sum'))\n",
    "\n",
    "# Polars kütüphanesinde gruplama işlemlerinin yapılması\n",
    "def groupby_polars(df_polars):\n",
    "\n",
    "    df_polars.group_by(\"groups\").agg(pl.col('col_0').mean().alias(\"mean_col_0\"),\n",
    "                                     pl.col('col_1').std().alias(\"std_col_1\"),\n",
    "                                     pl.sum('col_2').alias(\"sum_col_2\"))"
   ]
  },
  {
   "cell_type": "code",
   "execution_count": 25,
   "metadata": {},
   "outputs": [
    {
     "name": "stdout",
     "output_type": "stream",
     "text": [
      "57.7 ms ± 1.79 ms per loop (mean ± std. dev. of 7 runs, 10 loops each)\n"
     ]
    }
   ],
   "source": [
    "%%timeit\n",
    "groupby_pandas(df_pandas)"
   ]
  },
  {
   "cell_type": "code",
   "execution_count": 26,
   "metadata": {},
   "outputs": [
    {
     "name": "stdout",
     "output_type": "stream",
     "text": [
      "7.53 ms ± 174 μs per loop (mean ± std. dev. of 7 runs, 100 loops each)\n"
     ]
    }
   ],
   "source": [
    "%%timeit\n",
    "groupby_polars(df_polars)"
   ]
  },
  {
   "cell_type": "markdown",
   "metadata": {},
   "source": [
    "### 4) Birleştirme (Merge, Concatenate) İşlemleri"
   ]
  },
  {
   "cell_type": "markdown",
   "metadata": {},
   "source": [
    "Bazı işlemler gerçekleştirdiğimiz için ilk dataframeleri tekrar okuyoruz"
   ]
  },
  {
   "cell_type": "code",
   "execution_count": 27,
   "metadata": {},
   "outputs": [],
   "source": [
    "# Veri setlerini okuyalım\n",
    "df_pandas = pd.read_parquet(\"data.parquet\")\n",
    "df_polars = pl.read_parquet(\"data.parquet\")"
   ]
  },
  {
   "cell_type": "markdown",
   "metadata": {},
   "source": [
    "Birleştirme işlemlerinde kullanılacak dataframe oluşturuyoruz."
   ]
  },
  {
   "cell_type": "code",
   "execution_count": 28,
   "metadata": {},
   "outputs": [],
   "source": [
    "# Yüksek boyutta bir veri oluşturalım\n",
    "num_rows = 1000000\n",
    "num_cols = 50\n",
    "\n",
    "# Rastgele sayıların tekrar üretilebilmesi için seed değeri\n",
    "np.random.seed(0)\n",
    "# Rastgele sayılar içeren bir veriye dönüştürelim\n",
    "data = np.random.randn(num_rows, num_cols)\n",
    "\n",
    "# Kolon isimlerini oluşturalım\n",
    "columns = [f\"col_{i}\" for i in range(num_cols)]\n",
    "\n",
    "# Veri setlerini oluşturalım\n",
    "df_pandas_merging = pd.DataFrame(data, columns=columns)\n",
    "df_polars_merging = pl.from_numpy(data, schema=columns)"
   ]
  },
  {
   "cell_type": "markdown",
   "metadata": {},
   "source": [
    "Birleştirmede kullanılacak index kolonlarını oluşturalım"
   ]
  },
  {
   "cell_type": "code",
   "execution_count": 29,
   "metadata": {},
   "outputs": [],
   "source": [
    "# Veri setlerine birleştirme işlemlerinde kullanılacak isim numaralarını belirtecek verinin oluşturulması\n",
    "index_numbers = np.arange(start=0, stop=num_rows, step=1)\n",
    "\n",
    "# Index kolonunun tüm dataframe'lere eklenmesi\n",
    "df_pandas[\"index\"] = index_numbers\n",
    "df_pandas_merging[\"index\"] = index_numbers\n",
    "\n",
    "df_polars = df_polars.with_columns(pl.lit(index_numbers).alias(\"index\"))\n",
    "df_polars_merging = df_polars_merging.with_columns(pl.lit(index_numbers).alias(\"index\"))"
   ]
  },
  {
   "cell_type": "markdown",
   "metadata": {},
   "source": [
    "#### Merge İşlemi"
   ]
  },
  {
   "cell_type": "code",
   "execution_count": 30,
   "metadata": {},
   "outputs": [],
   "source": [
    "# Timeit modulünün kullanılabilmesi için işlemleri fonksiyonlaştırıyoruz\n",
    "\n",
    "# Pandas kütüphanesinde birleştirme işlemlerinin yapılması\n",
    "def merge_pandas(df_pandas, df_pandas_merging):\n",
    "\n",
    "    df_pandas.merge(df_pandas_merging, how=\"left\", on=\"index\")\n",
    "    df_pandas.merge(df_pandas_merging, how=\"right\", on=\"index\")\n",
    "    df_pandas.merge(df_pandas_merging, how=\"inner\", on=\"index\")\n",
    "\n",
    "# Polars kütüphanesinde birleştirme işlemlerinin yapılması\n",
    "def merge_polars(df_polars, df_polars_merging):\n",
    "\n",
    "    df_polars.join(df_polars_merging, how=\"left\", on=\"index\")\n",
    "    df_polars.join(df_polars_merging, how=\"right\", on=\"index\")\n",
    "    df_polars.join(df_polars_merging, how=\"inner\", on=\"index\")"
   ]
  },
  {
   "cell_type": "code",
   "execution_count": 31,
   "metadata": {},
   "outputs": [
    {
     "name": "stdout",
     "output_type": "stream",
     "text": [
      "1.59 s ± 68.6 ms per loop (mean ± std. dev. of 7 runs, 1 loop each)\n"
     ]
    }
   ],
   "source": [
    "%%timeit\n",
    "merge_pandas(df_pandas, df_pandas_merging)"
   ]
  },
  {
   "cell_type": "code",
   "execution_count": 32,
   "metadata": {},
   "outputs": [
    {
     "name": "stdout",
     "output_type": "stream",
     "text": [
      "262 ms ± 40.8 ms per loop (mean ± std. dev. of 7 runs, 1 loop each)\n"
     ]
    }
   ],
   "source": [
    "%%timeit\n",
    "merge_polars(df_polars, df_polars_merging)"
   ]
  },
  {
   "cell_type": "markdown",
   "metadata": {},
   "source": [
    "#### Concatenate İşlemi"
   ]
  },
  {
   "cell_type": "code",
   "execution_count": 33,
   "metadata": {},
   "outputs": [],
   "source": [
    "# Timeit modulünün kullanılabilmesi için işlemleri fonksiyonlaştırıyoruz\n",
    "\n",
    "# Pandas kütüphanesinde birleştirme işlemlerinin yapılması\n",
    "def concat_pandas(df_pandas, df_pandas_merging):\n",
    "\n",
    "    _ = pd.concat([df_pandas,df_pandas_merging], axis=0)\n",
    "\n",
    "# Polars kütüphanesinde birleştirme işlemlerinin yapılması\n",
    "def concat_polars(df_polars, df_polars_merging):\n",
    "\n",
    "    _ = pl.concat([df_polars,df_polars_merging])"
   ]
  },
  {
   "cell_type": "code",
   "execution_count": 34,
   "metadata": {},
   "outputs": [
    {
     "name": "stdout",
     "output_type": "stream",
     "text": [
      "392 ms ± 4.3 ms per loop (mean ± std. dev. of 7 runs, 1 loop each)\n"
     ]
    }
   ],
   "source": [
    "%%timeit\n",
    "concat_pandas(df_pandas, df_pandas_merging)"
   ]
  },
  {
   "cell_type": "code",
   "execution_count": 35,
   "metadata": {},
   "outputs": [
    {
     "name": "stdout",
     "output_type": "stream",
     "text": [
      "169 μs ± 6.21 μs per loop (mean ± std. dev. of 7 runs, 10,000 loops each)\n"
     ]
    }
   ],
   "source": [
    "%%timeit\n",
    "concat_polars(df_polars, df_polars_merging)"
   ]
  },
  {
   "cell_type": "markdown",
   "metadata": {},
   "source": [
    "## Sonuçlar"
   ]
  },
  {
   "cell_type": "markdown",
   "metadata": {},
   "source": [
    "### Genel Yorum\n",
    "- Genel olarak çoğu işlemde Polars kütüphanesi Pandas kütüphanesinden çok daha hızlı\n",
    "\n",
    "#### 1) Veri Okuma ve Yazma\n",
    "- Veri Okuma: Pandas: 1.2 s, Polars: 769 ms, **Polars %56 Daha Hızlı**\n",
    "- Veri Yazma: Pandas: 227 ms, Polars: 148 ms, **Polars %53 Daha Hızlı**\n",
    "\n",
    "#### 2) Kolon Operasyonları\n",
    "- Toplama, Çıkarma, Çarpma, Bölme: Pandas: 25.8ms, **Polars: 1.99ms, Polars %1196 Daha Hızlı**\n",
    "- Kolon Ekleme: Pandas: 57.2 ms, Polars: 315 ms, **Pandas %451 Daha Hızlı**\n",
    "- Kolon Düşürme: Pandas: 109 ms, Polars: 16.3 μs, **Polars %668611 Daha Hızlı**\n",
    "- Kolon Casting: Pandas: 1.24 ms, Polars: 7.57 ms, **Pandas %510 Daha Hızlı**\n",
    "\n",
    "#### 3) Gruplama İşlemleri\n",
    "- Groupby: Pandas 56.4 ms, Polars 7.5ms, **Polars %652 Daha Hızlı**\n",
    "\n",
    "#### 4) Birleştirme İşlemleri\n",
    "- Merging: Pandas: 2.06 s, Polars: 158 ms, **Polars %1204 Daha Hızlı**\n",
    "- Concatenate: Pandas: 394 ms, Polars: 162 μs, **Polars %24221 Daha Hızlı**\n"
   ]
  },
  {
   "cell_type": "markdown",
   "metadata": {},
   "source": [
    "### Kaydedilen DataFrame'in boyutundan dolayı silinmesi (GitHub dosya sınırından kaynaklı)"
   ]
  },
  {
   "cell_type": "code",
   "execution_count": 36,
   "metadata": {},
   "outputs": [],
   "source": [
    "import os\n",
    "os.remove(\"data.parquet\")"
   ]
  }
 ],
 "metadata": {
  "kernelspec": {
   "display_name": "paranormal",
   "language": "python",
   "name": "python3"
  },
  "language_info": {
   "codemirror_mode": {
    "name": "ipython",
    "version": 3
   },
   "file_extension": ".py",
   "mimetype": "text/x-python",
   "name": "python",
   "nbconvert_exporter": "python",
   "pygments_lexer": "ipython3",
   "version": "3.11.0"
  }
 },
 "nbformat": 4,
 "nbformat_minor": 2
}
